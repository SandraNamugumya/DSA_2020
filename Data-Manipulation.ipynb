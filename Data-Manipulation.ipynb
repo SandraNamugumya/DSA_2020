{
 "cells": [
  {
   "cell_type": "markdown",
   "metadata": {
    "deletable": false,
    "editable": false,
    "nbgrader": {
     "cell_type": "markdown",
     "checksum": "288e6c55a63e77bd74b136f70ffdf5c9",
     "grade": false,
     "grade_id": "cell-8d8402c61690c1aa",
     "locked": true,
     "schema_version": 3,
     "solution": false,
     "task": false
    }
   },
   "source": [
    "![DSA log](dsalogo.png)"
   ]
  },
  {
   "cell_type": "markdown",
   "metadata": {
    "deletable": false,
    "editable": false,
    "nbgrader": {
     "cell_type": "markdown",
     "checksum": "c3a948fbc771ec2fe8d92fda9094fa13",
     "grade": false,
     "grade_id": "cell-a0dda1f6f4cbf440",
     "locked": true,
     "schema_version": 3,
     "solution": false,
     "task": false
    }
   },
   "source": [
    "1. Make sure you are using a version of notebook greater than v.3. If you installed Anaconda with python 3 - this is likely to be fine. The next piece of code will check if you have the right version.\n",
    "2. The notebook has both some open test cases that you can use to test the functionality of your code - however it will be run on another set of test cases that you can't from which marks will be awarded. So passing all the tests in this notebook is not a guarantee that you have done things correctly - though its highly probable.\n",
    "3. Also make sure you submit a notebook that doesn't return any errors. One way to ensure this is to run all the cells before you submit the notebook.\n",
    "4. When you are done create a zip file of your notebook and upload that\n",
    "5. For each cell where you see \"YOUR CODE HERE\" delete the return notImplemented statement when you write your code there - don't leave it in the notebook.\n",
    "6. Once you are done, you are done.\n",
    "\n",
    "Submit your answers (as a notebook) to the link provided for registration. In case of any questions, contact the organizers at `dsakampala2020@gmail.com`"
   ]
  },
  {
   "cell_type": "code",
   "execution_count": null,
   "metadata": {
    "deletable": false,
    "editable": false,
    "nbgrader": {
     "cell_type": "code",
     "checksum": "3f34408ed9b7ccf0c21480dabc7d141c",
     "grade": false,
     "grade_id": "cell-5ba0f3d95f6e2dad",
     "locked": true,
     "schema_version": 3,
     "solution": false,
     "task": false
    }
   },
   "outputs": [],
   "source": []
  },
  {
   "cell_type": "code",
   "execution_count": 1,
   "metadata": {},
   "outputs": [],
   "source": [
    "import csv\n",
    "import json\n",
    "import pickle\n",
    "\n",
    "import numpy as np\n",
    "import pandas as pd\n",
    "\n",
    "from matplotlib import pyplot as plt\n",
    "\n",
    "%matplotlib inline\n",
    "\n",
    "from numpy.testing import assert_equal, assert_almost_equal"
   ]
  },
  {
   "cell_type": "markdown",
   "metadata": {
    "deletable": false,
    "editable": false,
    "nbgrader": {
     "cell_type": "markdown",
     "checksum": "ba04c2745b637c79346a39230b0ae5d8",
     "grade": false,
     "grade_id": "cell-1d50d41b3dc9d032",
     "locked": true,
     "schema_version": 3,
     "solution": false,
     "task": false
    }
   },
   "source": [
    "## Problem 1\n",
    "Write a function that computes the following transformation\n",
    "\n",
    "$$ x = \\cos(\\phi) \\times \\cos(\\theta) \\times \\rho $$\n",
    "\n",
    "$$ y = \\cos(\\phi) \\times \\sin(\\theta) \\times \\rho $$\n",
    "$$ z = \\sin(\\phi) \\times \\rho $$\n",
    "\n",
    "The function gets as input three numbers ($\\phi, \\theta, \\rho$) and returns three numbers ($x, y, z$).\n",
    "\n",
    "Test your function with various inputs such as:\n",
    "- $0, 0, 0$\n",
    "- $\\pi, \\pi, 0.5$"
   ]
  },
  {
   "cell_type": "code",
   "execution_count": 2,
   "metadata": {
    "deletable": false,
    "nbgrader": {
     "cell_type": "code",
     "checksum": "8614d39d2fb29cc7c943af2f03fa8b19",
     "grade": false,
     "grade_id": "transform-coord",
     "locked": false,
     "schema_version": 3,
     "solution": true,
     "task": false
    }
   },
   "outputs": [],
   "source": [
    "def transform_coordinates(phi, theta, rho):\n",
    "# Initialized to some random values\n",
    "    x, y, z = -1, -1, -1  \n",
    "    x = np.cos(phi) * np.cos(theta) * rho\n",
    "    y = np.cos(phi) * np.sin(theta) * rho\n",
    "    z = np.sin(phi) * rho\n",
    "    return x, y, z"
   ]
  },
  {
   "cell_type": "code",
   "execution_count": 3,
   "metadata": {
    "deletable": false,
    "editable": false,
    "nbgrader": {
     "cell_type": "code",
     "checksum": "bc5a9a0c7cf59a8a49072bb5925efb80",
     "grade": true,
     "grade_id": "transform-coord-sol",
     "locked": true,
     "points": 10,
     "schema_version": 3,
     "solution": false,
     "task": false
    }
   },
   "outputs": [
    {
     "name": "stdout",
     "output_type": "stream",
     "text": [
      "0.0 0.0 0.0\n"
     ]
    }
   ],
   "source": [
    "# Basic tests\n",
    "xx, yy, zz = transform_coordinates(0, 0, 0)\n",
    "print(xx, yy, zz)\n",
    "\n",
    "### BEGIN HIDDEN_TESTS\n",
    "assert_equal(transform_coordinates(0, 0, 0), np.array((0, 0, 0)))\n",
    "assert_almost_equal(\n",
    "    transform_coordinates(np.pi, np.pi, 0.5), \n",
    "    np.array((0.5, -6.123233995736766e-17, 6.123233995736766e-17))\n",
    ")\n",
    "### END HIDDEN_TESTS"
   ]
  },
  {
   "cell_type": "markdown",
   "metadata": {
    "deletable": false,
    "editable": false,
    "nbgrader": {
     "cell_type": "markdown",
     "checksum": "cc720125923919a37571aa60f6d26f4e",
     "grade": false,
     "grade_id": "cell-dd3c2a09ffc3468f",
     "locked": true,
     "schema_version": 3,
     "solution": false,
     "task": false
    }
   },
   "source": [
    "## Problem 2\n",
    "We are interested in analysing the age of participants at some event. Lets generate some fake data about age withi some group and then see what insights we can gather from it.\n",
    "We use `numpy` ability to generate random numbers to generate 50 random ages between 18 and 40. \n",
    "\n",
    "For this task we just want to generate the ages and store them in a variable called `participant_ages`\n",
    "\n",
    "**NOTE** \n",
    "The random number generator supports seeding (see [1](https://en.wikipedia.org/wiki/Random_seed) and [2](https://docs.scipy.org/doc/numpy-1.15.0/reference/generated/numpy.random.seed.html) for detailed exposition)\n",
    "For this task and and going forward remember to use the same seed for random number generation."
   ]
  },
  {
   "cell_type": "code",
   "execution_count": 4,
   "metadata": {
    "deletable": false,
    "nbgrader": {
     "cell_type": "code",
     "checksum": "37f65e8955f816811c795de18ec9ea19",
     "grade": false,
     "grade_id": "gen-ages",
     "locked": false,
     "schema_version": 3,
     "solution": true,
     "task": false
    }
   },
   "outputs": [],
   "source": [
    "def generate_ages(min_age=18, max_age=40, sample_size=50):\n",
    "    \"\"\" Generate random agents between given bounds\"\"\"\n",
    "    # Set the seed for repeatability\n",
    "    np.random.seed(42)\n",
    "    \n",
    "    # Initialize container for the ages\n",
    "    pa = []\n",
    "    # YOUR CODE HERE\n",
    "    pa.extend(np.random.randint(min_age,max_age,sample_size))\n",
    "    \n",
    "    return pa"
   ]
  },
  {
   "cell_type": "code",
   "execution_count": 5,
   "metadata": {
    "deletable": false,
    "editable": false,
    "nbgrader": {
     "cell_type": "code",
     "checksum": "a9f4f3b8d973c2f851635d436594cb5d",
     "grade": true,
     "grade_id": "gen-ages-sol",
     "locked": true,
     "points": 10,
     "schema_version": 3,
     "solution": false,
     "task": false
    }
   },
   "outputs": [
    {
     "name": "stdout",
     "output_type": "stream",
     "text": [
      "Sampled ages are: [24, 37, 32, 28, 25, 38, 24, 36, 28, 28, 38, 21, 25, 20, 39, 38, 19, 29, 23, 19, 38, 18, 29, 39, 29, 34, 27, 33, 32, 32, 36, 29, 37, 20, 22, 36, 24, 38, 26, 24, 35, 21, 31, 35, 26, 38, 19, 37, 32, 24]\n"
     ]
    }
   ],
   "source": [
    "participant_ages = generate_ages(18, 40, 50)\n",
    "print(\"Sampled ages are: {}\".format(participant_ages))\n",
    "\n",
    "### BEGIN HIDDEN_TESTS\n",
    "assert len(participant_ages) == 50\n",
    "assert min(participant_ages) >= 18\n",
    "assert max(participant_ages) <= 40\n",
    "### END HIDDEN_TESTS"
   ]
  },
  {
   "cell_type": "markdown",
   "metadata": {
    "deletable": false,
    "editable": false,
    "nbgrader": {
     "cell_type": "markdown",
     "checksum": "0f8dbe2f7930faf758e90133da9e1da1",
     "grade": false,
     "grade_id": "cell-2389f43a7344201f",
     "locked": true,
     "schema_version": 3,
     "solution": false,
     "task": false
    }
   },
   "source": [
    "## Problem 3\n",
    "Lets visualize the data we have just generated to get a better picture on what is going on.\n",
    "\n",
    "We will used `matplotlib` library. The manual is available at [https://matplotlib.org](https://matplotlib.org)\n",
    "\n",
    "Play with various kinds of visualizations to get a handle on how the library works. A bar plot works great for this kind of data. Labels your axes and title the plot"
   ]
  },
  {
   "cell_type": "code",
   "execution_count": 6,
   "metadata": {
    "deletable": false,
    "nbgrader": {
     "cell_type": "code",
     "checksum": "4d2f10398d84eedbef9b5a75bbdb1aa9",
     "grade": true,
     "grade_id": "plot-data",
     "locked": false,
     "points": 15,
     "schema_version": 3,
     "solution": true,
     "task": false
    }
   },
   "outputs": [
    {
     "data": {
      "text/plain": [
       "Text(0.5, 1.0, 'Participants age distribution')"
      ]
     },
     "execution_count": 6,
     "metadata": {},
     "output_type": "execute_result"
    },
    {
     "data": {
      "image/png": "[encoded data removed]",
      "text/plain": [
       "<Figure size 432x288 with 1 Axes>"
      ]
     },
     "metadata": {
      "needs_background": "light"
     },
     "output_type": "display_data"
    }
   ],
   "source": [
    "# YOUR CODE HERE\n",
    "import seaborn as sns\n",
    "df = pd.DataFrame(participant_ages,columns=['age'])\n",
    "bins = np.arange(18,int(df['age'].max())+2,2)\n",
    "labels = [f'{i}-{j}' for i,j in zip(bins[:-1],bins[1:])]\n",
    "df['age_groups'] = pd.cut(df.age, \n",
    "                            bins=bins, \n",
    "                            labels=labels, \n",
    "                            right=True, \n",
    "                            include_lowest=True)\n",
    "\n",
    "\n",
    "sns.countplot(df['age_groups'],color='blue', saturation=0.3)\n",
    "plt.xlabel('Age')\n",
    "plt.ylabel('Frequency')\n",
    "plt.title('Participants age distribution')\n"
   ]
  },
  {
   "cell_type": "markdown",
   "metadata": {
    "deletable": false,
    "editable": false,
    "nbgrader": {
     "cell_type": "markdown",
     "checksum": "3636c435bd2ed03d56e326195546487b",
     "grade": false,
     "grade_id": "cell-a4615ab5a36736cf",
     "locked": true,
     "schema_version": 3,
     "solution": false,
     "task": false
    }
   },
   "source": [
    "## Problem 4\n",
    "We are now ready to do some basic analysis on the ages data we just generated from problem 2 above.\n",
    "\n",
    "Lets start with the basics. Lets compute the following\n",
    "- minimum \n",
    "- maximum \n",
    "- average \n",
    "- percentiles (70th, 80th, 90th) \n",
    "- variance\n",
    "- standard deviation\n",
    "\n",
    "Implement these in the following 3 functions"
   ]
  },
  {
   "cell_type": "code",
   "execution_count": 7,
   "metadata": {
    "deletable": false,
    "nbgrader": {
     "cell_type": "code",
     "checksum": "0df8f794abc4d3f5f798e8018f4f5d53",
     "grade": false,
     "grade_id": "cell-minmax",
     "locked": false,
     "schema_version": 3,
     "solution": true,
     "task": false
    }
   },
   "outputs": [],
   "source": [
    "def min_max(ages):\n",
    "    \"\"\" Computes the minimum and maximum element of the input\"\"\"\n",
    "    min_ = 0\n",
    "    max_ = 0\n",
    "    # YOUR CODE HERE\n",
    "    ages.sort()\n",
    "    min_ = ages[0]\n",
    "    max_ = ages[-1]\n",
    "    return min_, max_"
   ]
  },
  {
   "cell_type": "code",
   "execution_count": 8,
   "metadata": {
    "deletable": false,
    "editable": false,
    "nbgrader": {
     "cell_type": "code",
     "checksum": "b4aa5bf252c55a502a9625885877a3e5",
     "grade": true,
     "grade_id": "cell-minimax-sol",
     "locked": true,
     "points": 5,
     "schema_version": 3,
     "solution": false,
     "task": false
    }
   },
   "outputs": [
    {
     "name": "stdout",
     "output_type": "stream",
     "text": [
      "(18, 39)\n"
     ]
    }
   ],
   "source": [
    "mm = min_max(participant_ages)\n",
    "print(mm)\n",
    "\n",
    "### BEGIN HIDDEN_TESTS\n",
    "assert mm[0] == 18\n",
    "assert mm[1] == 39\n",
    "### END HIDDEN_TESTS"
   ]
  },
  {
   "cell_type": "code",
   "execution_count": 9,
   "metadata": {
    "deletable": false,
    "nbgrader": {
     "cell_type": "code",
     "checksum": "d4cfbbb453d383c1be1dc69fb1b844bb",
     "grade": false,
     "grade_id": "avd",
     "locked": false,
     "schema_version": 3,
     "solution": true,
     "task": false
    }
   },
   "outputs": [],
   "source": [
    "def avr_var_dev(ages):\n",
    "    \"\"\"Computes the average, variance and standard deviation of the input\"\"\"\n",
    "    # Initialize to random values\n",
    "    a, v, d = 0, 0, 0\n",
    "    # YOUR CODE HERE\n",
    "    array_ages = np.array(ages)\n",
    "    \n",
    "    #Average\n",
    "    a = np.mean(array_ages)\n",
    "    \n",
    "    #Variance\n",
    "    v = np.var(array_ages)\n",
    "    \n",
    "    #Standard deviation     \n",
    "    d = np.std(array_ages)\n",
    "    \n",
    "    return a, v, d"
   ]
  },
  {
   "cell_type": "code",
   "execution_count": 10,
   "metadata": {
    "deletable": false,
    "editable": false,
    "nbgrader": {
     "cell_type": "code",
     "checksum": "3adf68fad02187cd61cf5936f1bd28ab",
     "grade": true,
     "grade_id": "avd-sol",
     "locked": true,
     "points": 10,
     "schema_version": 3,
     "solution": false,
     "task": false
    }
   },
   "outputs": [
    {
     "name": "stdout",
     "output_type": "stream",
     "text": [
      "(29.44, 42.926399999999994, 6.551824173464975)\n"
     ]
    },
    {
     "ename": "AssertionError",
     "evalue": "\nItems are not equal:\n ACTUAL: 42.926399999999994\n DESIRED: 42.926400000000015",
     "output_type": "error",
     "traceback": [
      "\u001b[0;31m---------------------------------------------------------------------------\u001b[0m",
      "\u001b[0;31mAssertionError\u001b[0m                            Traceback (most recent call last)",
      "\u001b[0;32m<ipython-input-10-9408a561ecaa>\u001b[0m in \u001b[0;36m<module>\u001b[0;34m\u001b[0m\n\u001b[1;32m      4\u001b[0m \u001b[0;31m### BEGIN HIDDEN_TESTS\u001b[0m\u001b[0;34m\u001b[0m\u001b[0;34m\u001b[0m\u001b[0;34m\u001b[0m\u001b[0m\n\u001b[1;32m      5\u001b[0m \u001b[0massert_equal\u001b[0m\u001b[0;34m(\u001b[0m\u001b[0mavd\u001b[0m\u001b[0;34m[\u001b[0m\u001b[0;36m0\u001b[0m\u001b[0;34m]\u001b[0m\u001b[0;34m,\u001b[0m \u001b[0;36m29.44\u001b[0m\u001b[0;34m)\u001b[0m\u001b[0;34m\u001b[0m\u001b[0;34m\u001b[0m\u001b[0m\n\u001b[0;32m----> 6\u001b[0;31m \u001b[0massert_equal\u001b[0m\u001b[0;34m(\u001b[0m\u001b[0mavd\u001b[0m\u001b[0;34m[\u001b[0m\u001b[0;36m1\u001b[0m\u001b[0;34m]\u001b[0m\u001b[0;34m,\u001b[0m \u001b[0;36m42.926400000000015\u001b[0m\u001b[0;34m)\u001b[0m\u001b[0;34m\u001b[0m\u001b[0;34m\u001b[0m\u001b[0m\n\u001b[0m\u001b[1;32m      7\u001b[0m \u001b[0massert_equal\u001b[0m\u001b[0;34m(\u001b[0m\u001b[0mavd\u001b[0m\u001b[0;34m[\u001b[0m\u001b[0;36m2\u001b[0m\u001b[0;34m]\u001b[0m\u001b[0;34m,\u001b[0m \u001b[0;36m6.551824173464976\u001b[0m\u001b[0;34m)\u001b[0m\u001b[0;34m\u001b[0m\u001b[0;34m\u001b[0m\u001b[0m\n\u001b[1;32m      8\u001b[0m \u001b[0;31m### END HIDDEN_TESTS\u001b[0m\u001b[0;34m\u001b[0m\u001b[0;34m\u001b[0m\u001b[0;34m\u001b[0m\u001b[0m\n",
      "\u001b[0;32m~/.local/lib/python3.6/site-packages/numpy/testing/_private/utils.py\u001b[0m in \u001b[0;36massert_equal\u001b[0;34m(actual, desired, err_msg, verbose)\u001b[0m\n\u001b[1;32m    413\u001b[0m         \u001b[0;31m# Explicitly use __eq__ for comparison, gh-2552\u001b[0m\u001b[0;34m\u001b[0m\u001b[0;34m\u001b[0m\u001b[0;34m\u001b[0m\u001b[0m\n\u001b[1;32m    414\u001b[0m         \u001b[0;32mif\u001b[0m \u001b[0;32mnot\u001b[0m \u001b[0;34m(\u001b[0m\u001b[0mdesired\u001b[0m \u001b[0;34m==\u001b[0m \u001b[0mactual\u001b[0m\u001b[0;34m)\u001b[0m\u001b[0;34m:\u001b[0m\u001b[0;34m\u001b[0m\u001b[0;34m\u001b[0m\u001b[0m\n\u001b[0;32m--> 415\u001b[0;31m             \u001b[0;32mraise\u001b[0m \u001b[0mAssertionError\u001b[0m\u001b[0;34m(\u001b[0m\u001b[0mmsg\u001b[0m\u001b[0;34m)\u001b[0m\u001b[0;34m\u001b[0m\u001b[0;34m\u001b[0m\u001b[0m\n\u001b[0m\u001b[1;32m    416\u001b[0m \u001b[0;34m\u001b[0m\u001b[0m\n\u001b[1;32m    417\u001b[0m     \u001b[0;32mexcept\u001b[0m \u001b[0;34m(\u001b[0m\u001b[0mDeprecationWarning\u001b[0m\u001b[0;34m,\u001b[0m \u001b[0mFutureWarning\u001b[0m\u001b[0;34m)\u001b[0m \u001b[0;32mas\u001b[0m \u001b[0me\u001b[0m\u001b[0;34m:\u001b[0m\u001b[0;34m\u001b[0m\u001b[0;34m\u001b[0m\u001b[0m\n",
      "\u001b[0;31mAssertionError\u001b[0m: \nItems are not equal:\n ACTUAL: 42.926399999999994\n DESIRED: 42.926400000000015"
     ]
    }
   ],
   "source": [
    "avd = avr_var_dev(participant_ages)\n",
    "print(avd)\n",
    "\n",
    "### BEGIN HIDDEN_TESTS\n",
    "assert_equal(avd[0], 29.44)\n",
    "assert_equal(avd[1], 42.926400000000015)\n",
    "assert_equal(avd[2], 6.551824173464976)\n",
    "### END HIDDEN_TESTS"
   ]
  },
  {
   "cell_type": "code",
   "execution_count": 11,
   "metadata": {
    "deletable": false,
    "nbgrader": {
     "cell_type": "code",
     "checksum": "c50bfe32887f96ccb650682a0f1f4fc2",
     "grade": false,
     "grade_id": "percentiles",
     "locked": false,
     "schema_version": 3,
     "solution": true,
     "task": false
    }
   },
   "outputs": [],
   "source": [
    "def percentiles(ages):\n",
    "    \"\"\"Computes the percentiles (70th, 80th, 90th)\"\"\"\n",
    "    # Initialize to random values\n",
    "    p70, p80, p90 = 0, 0, 0\n",
    "    # YOUR CODE HERE\n",
    "    ages_array = np.array(ages)\n",
    "    \n",
    "    #p70\n",
    "    p70 = np.percentile(ages_array,70)\n",
    "    \n",
    "    #p80\n",
    "    p80 = np.percentile(ages_array,80)\n",
    "    \n",
    "    #p90\n",
    "    p90 = np.percentile(ages_array,90)\n",
    "    \n",
    "    return p70, p80, p90"
   ]
  },
  {
   "cell_type": "code",
   "execution_count": 12,
   "metadata": {
    "deletable": false,
    "editable": false,
    "nbgrader": {
     "cell_type": "code",
     "checksum": "ae1e3dc1449d8adb4bad5d133baf5f5b",
     "grade": true,
     "grade_id": "percentiles-sol",
     "locked": true,
     "points": 5,
     "schema_version": 3,
     "solution": false,
     "task": false
    }
   },
   "outputs": [
    {
     "name": "stdout",
     "output_type": "stream",
     "text": [
      "Percentiles are: 35.0, 37.0, 38.0\n"
     ]
    }
   ],
   "source": [
    "p70, p80, p90 = percentiles(participant_ages)\n",
    "print(\"Percentiles are: {}, {}, {}\".format(p70, p80, p90))\n",
    "### BEGIN HIDDEN_TESTS\n",
    "assert_equal(p70, 35.0)\n",
    "assert_equal(p80, 37.0)\n",
    "assert_equal(p90, 38.0)\n",
    "### END HIDDEN_TESTS"
   ]
  },
  {
   "cell_type": "markdown",
   "metadata": {
    "deletable": false,
    "editable": false,
    "nbgrader": {
     "cell_type": "markdown",
     "checksum": "f761c948dacf6c057b9472d008e5dd94",
     "grade": false,
     "grade_id": "cell-58d38a2f80d0eb54",
     "locked": true,
     "schema_version": 3,
     "solution": false,
     "task": false
    }
   },
   "source": [
    "## Problem 5\n",
    "\n",
    "In this part, we will load a dataset provided with this exercise, prepare it by converting to the right types and finally plot it to explore the data.\n",
    "\n",
    "The dataset is stored in a CSV file with the following columns; [feature_1,feature_2,label] The values in each line are separated by a comma (',').\n",
    "\n",
    "We want to:\n",
    "- Load the data\n",
    "- Clean it a little by performing some clipping\n",
    "\n",
    "Implement these steps in the following functions"
   ]
  },
  {
   "cell_type": "code",
   "execution_count": 13,
   "metadata": {},
   "outputs": [],
   "source": [
    "DATASET_NAME = 'dataset_original.csv'"
   ]
  },
  {
   "cell_type": "code",
   "execution_count": 14,
   "metadata": {
    "deletable": false,
    "nbgrader": {
     "cell_type": "code",
     "checksum": "f46d91570908f983b4948082875c90a8",
     "grade": false,
     "grade_id": "data-load",
     "locked": false,
     "schema_version": 3,
     "solution": true,
     "task": false
    }
   },
   "outputs": [],
   "source": [
    "def load_data(filename):\n",
    "    \"\"\" Load dataset from a CSV file.\n",
    "    \n",
    "    Parameters\n",
    "    -----------\n",
    "    filename : str\n",
    "        The filename of the CSV.\n",
    "    \n",
    "    Returns\n",
    "    --------\n",
    "    data : array-like\n",
    "        Numpy array of the loaded data.\n",
    "        \n",
    "    Note\n",
    "    -----\n",
    "    Hints\n",
    "    1) Pay attention to the header (column names) when creating the array.\n",
    "    2) Pay attention to types read in (strings vs floats)\n",
    "    \n",
    "    \"\"\"\n",
    "    # YOUR CODE HERE\n",
    "    with open(filename,'r') as file:\n",
    "        reader = csv.reader(file)\n",
    "        header = next(reader)\n",
    "            \n",
    "        data = np.array(list(reader)).astype(float)\n",
    "\n",
    "    return data\n",
    "       \n",
    "               "
   ]
  },
  {
   "cell_type": "code",
   "execution_count": 15,
   "metadata": {
    "deletable": false,
    "editable": false,
    "nbgrader": {
     "cell_type": "code",
     "checksum": "5a41e15f72db47a60c0c5949e6bc1e76",
     "grade": true,
     "grade_id": "data-load-sol",
     "locked": true,
     "points": 10,
     "schema_version": 3,
     "solution": false,
     "task": false
    }
   },
   "outputs": [
    {
     "name": "stdout",
     "output_type": "stream",
     "text": [
      "[[ 1.14786796  0.9377818   1.        ]\n",
      " [ 0.17318939 -0.26448292  0.        ]\n",
      " [ 0.68044704  0.04814656  1.        ]\n",
      " ...\n",
      " [-0.4784924   1.27098628  1.        ]\n",
      " [ 2.15809386  1.63097509  1.        ]\n",
      " [ 0.99990501  1.6876248   1.        ]]\n"
     ]
    }
   ],
   "source": [
    "data = load_data(DATASET_NAME)\n",
    "print(data)\n",
    "\n",
    "# Check your implementation against these basic tests\n",
    "assert len(data) == 1000\n",
    "assert data.shape == (1000, 3)\n",
    "\n",
    "### BEGIN HIDDEN_TESTS\n",
    "assert np.unique(data[:, 2]).tolist() == [0, 1]\n",
    "### END HIDDEN_TESTS"
   ]
  },
  {
   "cell_type": "markdown",
   "metadata": {},
   "source": [
    "Now lets clean the dataset. We make the assumption that there is some noise in the data define by the following rules:\n",
    "\n",
    "- Feature 1 should have values in the range  (−2,2]\n",
    "- Feature 2 should only have positive values in the range  [0.0,1.5)\n",
    " \n",
    "In practise, such rules are derived from domain knowledge from the area of interest. We will now filter the data and remove the 'noisy' samples (any sample which does not fall within ranges specified above). We also save the resulting dataset for future use."
   ]
  },
  {
   "cell_type": "code",
   "execution_count": 16,
   "metadata": {
    "deletable": false,
    "nbgrader": {
     "cell_type": "code",
     "checksum": "6f06e4e237923b364f325875bb6bebe7",
     "grade": false,
     "grade_id": "clean-data",
     "locked": false,
     "schema_version": 3,
     "solution": true,
     "task": false
    }
   },
   "outputs": [],
   "source": [
    "from numpy import savetxt\n",
    "def clean_data(data):\n",
    "    \"\"\" Filter dataset by removing samples which do not match the rules \n",
    "    \n",
    "    Parameters\n",
    "    -----------\n",
    "    data : array-like\n",
    "        Dataset\n",
    "    Returns\n",
    "    -------\n",
    "    new_data : array-like\n",
    "        New dataset\n",
    "    \"\"\"\n",
    "    # YOUR CODE HERE\n",
    "    # clean feaature1\n",
    "    feature1_clean = np.where((data[:,0]<=2) & (data[:,0]>-2))\n",
    "    data1 = data[feature1_clean] \n",
    "    \n",
    "    # clean feature2\n",
    "    feature2_clean = np.where((data1[:,1]<1.5) & (data1[:,1]>=0.0))\n",
    "    new_data = data1[feature2_clean]\n",
    "    \n",
    "    # save the newdataset as a csv file\n",
    "    savetxt('cleaned_data.csv', new_data,fmt=['%10.11f','%10.12f','%d'], delimiter=',', header='feature_1, feature_2, label',comments='')\n",
    "    \n",
    "    return(new_data)"
   ]
  },
  {
   "cell_type": "code",
   "execution_count": 17,
   "metadata": {
    "deletable": false,
    "editable": false,
    "nbgrader": {
     "cell_type": "code",
     "checksum": "a02780931b3d16a85f669b4eae06a56f",
     "grade": true,
     "grade_id": "clean-data-sol",
     "locked": true,
     "points": 25,
     "schema_version": 3,
     "solution": false,
     "task": false
    }
   },
   "outputs": [],
   "source": [
    "# Run the cleanup step\n",
    "new_data = clean_data(data)\n",
    "\n",
    "# Test your implementation against the following.\n",
    "assert new_data.shape[0] == 329\n",
    "### BEGIN HIDDEN_TESTS\n",
    "assert (new_data[:, 0] > 2).all() == False\n",
    "assert (new_data[:, 0] < -2).all() == False\n",
    "assert (new_data[:, 1] < 0.0).all() == False\n",
    "assert (new_data[:, 1] > 1.5).all() == False\n",
    "### END HIDDEN_TESTS"
   ]
  },
  {
   "cell_type": "code",
   "execution_count": null,
   "metadata": {},
   "outputs": [],
   "source": []
  }
 ],
 "metadata": {
  "kernelspec": {
   "display_name": "Python 3",
   "language": "python",
   "name": "python3"
  },
  "language_info": {
   "codemirror_mode": {
    "name": "ipython",
    "version": 3
   },
   "file_extension": ".py",
   "mimetype": "text/x-python",
   "name": "python",
   "nbconvert_exporter": "python",
   "pygments_lexer": "ipython3",
   "version": "3.6.8"
  }
 },
 "nbformat": 4,
 "nbformat_minor": 4
}
